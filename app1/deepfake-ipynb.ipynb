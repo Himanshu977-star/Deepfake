{
 "cells": [
  {
   "cell_type": "code",
   "execution_count": 1,
   "metadata": {
    "execution": {
     "iopub.execute_input": "2025-07-22T17:14:10.443732Z",
     "iopub.status.busy": "2025-07-22T17:14:10.442666Z",
     "iopub.status.idle": "2025-07-22T17:14:10.451324Z",
     "shell.execute_reply": "2025-07-22T17:14:10.450138Z",
     "shell.execute_reply.started": "2025-07-22T17:14:10.443657Z"
    },
    "trusted": true
   },
   "outputs": [
    {
     "ename": "FileNotFoundError",
     "evalue": "[WinError 3] The system cannot find the path specified: '/kaggle/input/deep-fake-detection-dfd-entire-original-dataset'",
     "output_type": "error",
     "traceback": [
      "\u001b[31m---------------------------------------------------------------------------\u001b[39m",
      "\u001b[31mFileNotFoundError\u001b[39m                         Traceback (most recent call last)",
      "\u001b[36mCell\u001b[39m\u001b[36m \u001b[39m\u001b[32mIn[1]\u001b[39m\u001b[32m, line 3\u001b[39m\n\u001b[32m      1\u001b[39m \u001b[38;5;28;01mimport\u001b[39;00m\u001b[38;5;250m \u001b[39m\u001b[34;01mos\u001b[39;00m\n\u001b[32m----> \u001b[39m\u001b[32m3\u001b[39m \u001b[38;5;28mprint\u001b[39m(\u001b[33m\"\u001b[39m\u001b[33mVideo Dataset Files:\u001b[39m\u001b[33m\"\u001b[39m, \u001b[43mos\u001b[49m\u001b[43m.\u001b[49m\u001b[43mlistdir\u001b[49m\u001b[43m(\u001b[49m\u001b[33;43m\"\u001b[39;49m\u001b[33;43m/kaggle/input/deep-fake-detection-dfd-entire-original-dataset\u001b[39;49m\u001b[33;43m\"\u001b[39;49m\u001b[43m)\u001b[49m[:\u001b[32m10\u001b[39m])\n\u001b[32m      4\u001b[39m \u001b[38;5;28mprint\u001b[39m(\u001b[33m\"\u001b[39m\u001b[33mImage Dataset Files:\u001b[39m\u001b[33m\"\u001b[39m, os.listdir(\u001b[33m\"\u001b[39m\u001b[33m/kaggle/input/deepfake-and-real-images\u001b[39m\u001b[33m\"\u001b[39m)[:\u001b[32m10\u001b[39m])\n",
      "\u001b[31mFileNotFoundError\u001b[39m: [WinError 3] The system cannot find the path specified: '/kaggle/input/deep-fake-detection-dfd-entire-original-dataset'"
     ]
    }
   ],
   "source": [
    "import os\n",
    "\n",
    "print(\"Video Dataset Files:\", os.listdir(\"/kaggle/input/deep-fake-detection-dfd-entire-original-dataset\")[:10])\n",
    "print(\"Image Dataset Files:\", os.listdir(\"/kaggle/input/deepfake-and-real-images\")[:10])"
   ]
  },
  {
   "cell_type": "code",
   "execution_count": null,
   "metadata": {
    "execution": {
     "iopub.execute_input": "2025-07-22T17:14:10.453423Z",
     "iopub.status.busy": "2025-07-22T17:14:10.453112Z",
     "iopub.status.idle": "2025-07-22T17:14:10.474945Z",
     "shell.execute_reply": "2025-07-22T17:14:10.473949Z",
     "shell.execute_reply.started": "2025-07-22T17:14:10.453400Z"
    },
    "trusted": true
   },
   "outputs": [],
   "source": [
    "import os\n",
    "import cv2\n",
    "import numpy as np\n",
    "import tensorflow as tf\n",
    "from tensorflow.keras.models import Sequential\n",
    "from tensorflow.keras.layers import Conv2D, MaxPooling2D, Flatten, Dense, Dropout, Input\n",
    "from tensorflow.keras.preprocessing.image import ImageDataGenerator\n",
    "from tensorflow.keras.preprocessing import image\n",
    "from sklearn.model_selection import train_test_split\n",
    "from sklearn.utils import shuffle\n",
    "import matplotlib.pyplot as plt\n",
    "print(\"Complete\")"
   ]
  },
  {
   "cell_type": "code",
   "execution_count": null,
   "metadata": {
    "execution": {
     "iopub.execute_input": "2025-07-22T17:14:10.476630Z",
     "iopub.status.busy": "2025-07-22T17:14:10.476289Z",
     "iopub.status.idle": "2025-07-22T17:15:31.297406Z",
     "shell.execute_reply": "2025-07-22T17:15:31.296136Z",
     "shell.execute_reply.started": "2025-07-22T17:14:10.476583Z"
    },
    "trusted": true
   },
   "outputs": [],
   "source": [
    "train_dir=\"/kaggle/input/deepfake-and-real-images/Dataset/Train\"\n",
    "test_dir=\"/kaggle/input/deepfake-and-real-images/Dataset/Test\"\n",
    "val_dir=\"/kaggle/input/deepfake-and-real-images/Dataset/Validation\"\n",
    "\n",
    "#Image Preprocessing\n",
    "datagen=ImageDataGenerator(rescale=1./255,validation_split=0.2)\n",
    "\n",
    "train_generator=datagen.flow_from_directory(\n",
    "    train_dir,\n",
    "    target_size=(128,128),\n",
    "    batch_size=32,\n",
    "    class_mode=\"binary\",\n",
    "    subset=\"training\"\n",
    ")\n",
    "\n",
    "val_generator=datagen.flow_from_directory(\n",
    "    val_dir,\n",
    "    target_size=(128,128),\n",
    "    batch_size=32,\n",
    "    class_mode=\"binary\",\n",
    "    subset=\"validation\"\n",
    ")\n",
    "\n",
    "test_generator=datagen.flow_from_directory(\n",
    "    test_dir,\n",
    "    target_size=(128,128),\n",
    "    batch_size=32,\n",
    "    class_mode=\"binary\"\n",
    ")"
   ]
  },
  {
   "cell_type": "code",
   "execution_count": null,
   "metadata": {
    "execution": {
     "iopub.execute_input": "2025-07-22T17:15:31.299496Z",
     "iopub.status.busy": "2025-07-22T17:15:31.299112Z",
     "iopub.status.idle": "2025-07-22T17:15:31.376367Z",
     "shell.execute_reply": "2025-07-22T17:15:31.375485Z",
     "shell.execute_reply.started": "2025-07-22T17:15:31.299471Z"
    },
    "trusted": true
   },
   "outputs": [],
   "source": [
    "model=Sequential([\n",
    "    Input(shape=(128,128,3)),\n",
    "    Conv2D(16,(3,3),activation='relu'),\n",
    "    MaxPooling2D(2,2),\n",
    "    Conv2D(32,(3,3),activation='relu'),\n",
    "    MaxPooling2D(2,2),\n",
    "    Flatten(),\n",
    "    Dense(64,activation='relu'),\n",
    "    Dropout(0.5),\n",
    "    Dense(1,activation='sigmoid')\n",
    "])\n",
    "\n",
    "#Compile the model\n",
    "model.compile(optimizer='adam',loss='binary_crossentropy',metrics=['accuracy'])\n",
    "\n",
    "#Model summary\n",
    "model.summary()"
   ]
  },
  {
   "cell_type": "code",
   "execution_count": null,
   "metadata": {
    "execution": {
     "iopub.execute_input": "2025-07-22T17:15:31.378472Z",
     "iopub.status.busy": "2025-07-22T17:15:31.378194Z",
     "iopub.status.idle": "2025-07-22T17:51:27.702823Z",
     "shell.execute_reply": "2025-07-22T17:51:27.701670Z",
     "shell.execute_reply.started": "2025-07-22T17:15:31.378453Z"
    },
    "trusted": true
   },
   "outputs": [],
   "source": [
    "history = model.fit(\n",
    "    train_generator,\n",
    "    validation_data=val_generator,\n",
    "    epochs=3  \n",
    ")"
   ]
  },
  {
   "cell_type": "code",
   "execution_count": null,
   "metadata": {
    "execution": {
     "iopub.execute_input": "2025-07-22T17:51:27.705183Z",
     "iopub.status.busy": "2025-07-22T17:51:27.704824Z",
     "iopub.status.idle": "2025-07-22T17:53:06.123944Z",
     "shell.execute_reply": "2025-07-22T17:53:06.123154Z",
     "shell.execute_reply.started": "2025-07-22T17:51:27.705156Z"
    },
    "trusted": true
   },
   "outputs": [],
   "source": [
    "test_loss, test_acc = model.evaluate(test_generator)\n",
    "print(f\"Test Accuracy: {test_acc:.4f}\")"
   ]
  },
  {
   "cell_type": "code",
   "execution_count": null,
   "metadata": {
    "execution": {
     "iopub.execute_input": "2025-07-22T17:54:13.145185Z",
     "iopub.status.busy": "2025-07-22T17:54:13.144760Z",
     "iopub.status.idle": "2025-07-22T17:54:13.250047Z",
     "shell.execute_reply": "2025-07-22T17:54:13.248746Z",
     "shell.execute_reply.started": "2025-07-22T17:54:13.145158Z"
    },
    "trusted": true
   },
   "outputs": [],
   "source": [
    "model.save(\"/kaggle/working/deepfake_model.h5\")"
   ]
  },
  {
   "cell_type": "code",
   "execution_count": null,
   "metadata": {
    "execution": {
     "iopub.execute_input": "2025-07-22T17:58:50.015270Z",
     "iopub.status.busy": "2025-07-22T17:58:50.014883Z",
     "iopub.status.idle": "2025-07-22T17:58:50.025976Z",
     "shell.execute_reply": "2025-07-22T17:58:50.025129Z",
     "shell.execute_reply.started": "2025-07-22T17:58:50.015244Z"
    },
    "trusted": true
   },
   "outputs": [],
   "source": [
    "import IPython.display as display\n",
    "\n",
    "output_path='/kaggle/input/deep-fake-detection-dfd-entire-original-dataset/DFD_original sequences'\n",
    "video_files = os.listdir(output_path)\n",
    "print(\"Available video files:\", video_files[:100]) \n",
    "video_path = os.path.join(output_path, video_files[4])\n",
    "display.Video(video_path)"
   ]
  },
  {
   "cell_type": "code",
   "execution_count": null,
   "metadata": {
    "execution": {
     "iopub.execute_input": "2025-07-22T18:01:28.480336Z",
     "iopub.status.busy": "2025-07-22T18:01:28.479810Z",
     "iopub.status.idle": "2025-07-22T18:01:30.174032Z",
     "shell.execute_reply": "2025-07-22T18:01:30.172973Z",
     "shell.execute_reply.started": "2025-07-22T18:01:28.480305Z"
    },
    "trusted": true
   },
   "outputs": [],
   "source": [
    "import cv2\n",
    "\n",
    "def extract_frames(video_path, output_folder, num_frames=100):\n",
    "    cap = cv2.VideoCapture(video_path)\n",
    "    count = 0\n",
    "\n",
    "    while cap.isOpened() and count < num_frames:\n",
    "        ret, frame = cap.read()\n",
    "        if not ret:\n",
    "            break\n",
    "        frame_path = os.path.join(output_folder, f\"frame_{count}.jpg\")\n",
    "        cv2.imwrite(frame_path, frame)\n",
    "        count += 1\n",
    "\n",
    "    cap.release()\n",
    "    print(f\"Extracted {count} frames from {video_path}\")\n",
    "\n",
    "\n",
    "frames_output_path = \"/kaggle/working/extracted_frames\"\n",
    "os.makedirs(frames_output_path, exist_ok=True)\n",
    "\n",
    "extract_frames(video_path, frames_output_path)"
   ]
  },
  {
   "cell_type": "code",
   "execution_count": null,
   "metadata": {
    "execution": {
     "iopub.execute_input": "2025-07-22T18:05:53.447310Z",
     "iopub.status.busy": "2025-07-22T18:05:53.446705Z",
     "iopub.status.idle": "2025-07-22T18:05:54.499102Z",
     "shell.execute_reply": "2025-07-22T18:05:54.497947Z",
     "shell.execute_reply.started": "2025-07-22T18:05:53.447278Z"
    },
    "trusted": true
   },
   "outputs": [],
   "source": [
    "model = tf.keras.models.load_model(\"/kaggle/working/deepfake_model.h5\")\n",
    "\n",
    "test_frame = os.path.join(frames_output_path, \"frame_0.jpg\")\n",
    "img = image.load_img(test_frame, target_size=(128,128))\n",
    "img_array = image.img_to_array(img) / 255.0\n",
    "img_array = np.expand_dims(img_array, axis=0)\n",
    "\n",
    "\n",
    "prediction = model.predict(img_array)[0][0]\n",
    "print(\"Prediction:\", \"Fake\" if prediction > 0.5 else \"Real\")"
   ]
  }
 ],
 "metadata": {
  "kaggle": {
   "accelerator": "none",
   "dataSources": [
    {
     "datasetId": 5524489,
     "sourceId": 9146200,
     "sourceType": "datasetVersion"
    },
    {
     "datasetId": 1909705,
     "sourceId": 3134515,
     "sourceType": "datasetVersion"
    }
   ],
   "dockerImageVersionId": 31089,
   "isGpuEnabled": false,
   "isInternetEnabled": false,
   "language": "python",
   "sourceType": "notebook"
  },
  "kernelspec": {
   "display_name": ".venv",
   "language": "python",
   "name": "python3"
  },
  "language_info": {
   "codemirror_mode": {
    "name": "ipython",
    "version": 3
   },
   "file_extension": ".py",
   "mimetype": "text/x-python",
   "name": "python",
   "nbconvert_exporter": "python",
   "pygments_lexer": "ipython3",
   "version": "3.12.10"
  }
 },
 "nbformat": 4,
 "nbformat_minor": 4
}
